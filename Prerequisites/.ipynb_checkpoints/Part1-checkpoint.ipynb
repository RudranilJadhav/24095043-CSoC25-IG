{
 "cells": [
  {
   "cell_type": "code",
   "execution_count": null,
   "id": "eb5bd318-7b7e-4cba-96b6-d141b83a735d",
   "metadata": {},
   "outputs": [],
   "source": [
    "import pandas as pd"
   ]
  },
  {
   "cell_type": "code",
   "execution_count": null,
   "id": "eb142ad8-3075-45fa-998a-c29cc18ed45c",
   "metadata": {},
   "outputs": [],
   "source": [
    "train_set = pd.read_csv('train.csv')\n",
    "test_set = pd.read_csv('test.csv')\n",
    "\n",
    "x_train = train_set.drop(['median_house_value'], axis=1)\n",
    "y_train = train_set['median_house_value']\n",
    "\n",
    "x_test = test_set.drop(['median_house_value'], axis=1)\n",
    "y_test = test_set['median_house_value']"
   ]
  },
  {
   "cell_type": "code",
   "execution_count": null,
   "id": "cf862d7f-3181-4d1b-81dc-47e2d2d47dde",
   "metadata": {},
   "outputs": [],
   "source": [
    "x_train,y_train"
   ]
  },
  {
   "cell_type": "code",
   "execution_count": null,
   "id": "d343cf76-9472-446d-a798-1412e1d64ee2",
   "metadata": {},
   "outputs": [],
   "source": [
    "def dot_product(a,b):\n",
    "    c=0\n",
    "    for i in range(len(a)):\n",
    "        c+=a[i]*b[i]\n",
    "    return c\n",
    "a=[1,4]\n",
    "b=[2,4]\n",
    "\n",
    "dot_product(a,b)"
   ]
  },
  {
   "cell_type": "code",
   "execution_count": null,
   "id": "f65589d8-3db4-4672-9279-207e1e5e66a5",
   "metadata": {},
   "outputs": [],
   "source": [
    "def cost(w,b):\n",
    "    cost=0\n",
    "    for i in range(len(x_train)):\n",
    "        cost+=(dot_product(list(x_train.iloc[i]),w)+b-y_train.iloc[i])**2\n",
    "    return cost\n",
    "w=[1]*12\n",
    "b=1\n",
    "cost(w,b)"
   ]
  },
  {
   "cell_type": "code",
   "execution_count": null,
   "id": "a19fb064-8b04-4648-8276-47039db447fc",
   "metadata": {},
   "outputs": [],
   "source": [
    "def derivative_x(w,b,j):\n",
    "    derivative=0\n",
    "    for i in range(len(x_train)):\n",
    "        derivative+=(dot_product(list(x_train.iloc[i]),w)+b-y_train.iloc[i])*(x_train.iloc[i,j])\n",
    "    return derivative/len(x_train)\n",
    "\n",
    "def derivative_b(w,b):\n",
    "    derivative=0\n",
    "    for i in range(len(x_train)):\n",
    "        derivative+=(dot_product(list(x_train.iloc[i]),w)+b-y_train.iloc[i])\n",
    "    return derivative/len(x_train)"
   ]
  },
  {
   "cell_type": "code",
   "execution_count": null,
   "id": "004f4c22-a73f-4541-96d3-7f20020415d9",
   "metadata": {},
   "outputs": [],
   "source": [
    "def gradient_decent(w,b,lr):\n",
    "    w_new=w\n",
    "    b_new=b\n",
    "    for j in range(len(x_train.iloc[0])):\n",
    "        w_new[j]=w_new[j]-lr*(derivative_x(w,b,j))\n",
    "    b_new=b_new-lr*derivative_b(w,b)\n",
    "    w=w_new\n",
    "    b=b_new"
   ]
  },
  {
   "cell_type": "code",
   "execution_count": null,
   "id": "43b336f4-8697-4e0c-a109-e3fa5d04ac2d",
   "metadata": {},
   "outputs": [],
   "source": [
    "w=[0]*12\n",
    "b=0\n",
    "for epoch in range(1000):\n",
    "    gradient_decent(w,b,0.1)\n",
    "    if(epoch%100==0):\n",
    "        print(cost(w,b))"
   ]
  },
  {
   "cell_type": "code",
   "execution_count": null,
   "id": "e8378edb-fa72-457b-8450-42882b28c303",
   "metadata": {},
   "outputs": [],
   "source": []
  },
  {
   "cell_type": "code",
   "execution_count": null,
   "id": "7f4407a2-e690-427c-b242-7a2de06d75f0",
   "metadata": {},
   "outputs": [],
   "source": []
  }
 ],
 "metadata": {
  "kernelspec": {
   "display_name": "Python 3 (ipykernel)",
   "language": "python",
   "name": "python3"
  },
  "language_info": {
   "codemirror_mode": {
    "name": "ipython",
    "version": 3
   },
   "file_extension": ".py",
   "mimetype": "text/x-python",
   "name": "python",
   "nbconvert_exporter": "python",
   "pygments_lexer": "ipython3",
   "version": "3.12.9"
  }
 },
 "nbformat": 4,
 "nbformat_minor": 5
}
