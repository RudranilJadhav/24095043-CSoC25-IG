{
 "cells": [
  {
   "cell_type": "code",
   "execution_count": 1,
   "id": "4e297913-c0f7-46da-a907-4281309bc556",
   "metadata": {},
   "outputs": [],
   "source": [
    "import gymnasium as gym\n",
    "from gymnasium.envs.toy_text.frozen_lake import generate_random_map\n",
    "from gymnasium.envs.registration import register\n",
    "import random\n",
    "import numpy as np\n",
    "import time\n",
    "import matplotlib.pyplot as plt"
   ]
  },
  {
   "cell_type": "code",
   "execution_count": 2,
   "id": "07844047-4084-4578-8319-5f2f57bcef7a",
   "metadata": {},
   "outputs": [],
   "source": [
    "lake_map = generate_random_map(size=4, p=0.9)"
   ]
  },
  {
   "cell_type": "code",
   "execution_count": 3,
   "id": "5cac1fa6-7569-4586-a88c-02f2dbc8e6d9",
   "metadata": {},
   "outputs": [],
   "source": [
    "register(\n",
    "    id=\"FrozenLake20x20Custom-v1\",\n",
    "    entry_point=\"gymnasium.envs.toy_text.frozen_lake:FrozenLakeEnv\",\n",
    "    kwargs={\n",
    "        \"desc\": lake_map,\n",
    "        \"map_name\": \"FrozenLake20x20Custom\",\n",
    "        \"is_slippery\": False\n",
    "    }\n",
    ")\n",
    "env = gym.make(\"FrozenLake20x20Custom-v1\", render_mode=\"ansi\")"
   ]
  },
  {
   "cell_type": "code",
   "execution_count": 4,
   "id": "e544e7ad-d539-4e43-a321-6988008af73c",
   "metadata": {},
   "outputs": [],
   "source": [
    "def value_iteration(env, gamma=0.9, theta=0.001):\n",
    "    n_states = env.observation_space.n\n",
    "    n_actions = env.action_space.n\n",
    "    V = np.zeros(n_states)\n",
    "    iterations = 0    \n",
    "    while True:\n",
    "        iterations += 1\n",
    "        delta = 0\n",
    "        for s in range(n_states):\n",
    "            q_sa = [sum([p*(r+gamma* V[s_]) for p, s_, r, _ in env.unwrapped.P[s][a]]) for a in range(n_actions)]\n",
    "            max_q = max(q_sa)\n",
    "            delta = max(delta, abs(max_q-V[s]))\n",
    "            V[s] = max_q\n",
    "        if delta < theta:\n",
    "            break\n",
    "    policy = np.zeros(n_states, dtype=int)\n",
    "    for s in range(n_states):\n",
    "        q_sa = [sum([p*(r+gamma*V[s_]) for p,s_ ,r, _ in env.unwrapped.P[s][a]])\n",
    "                for a in range(n_actions)]\n",
    "        policy[s] = np.argmax(q_sa)\n",
    "    return policy, V, iterations"
   ]
  },
  {
   "cell_type": "code",
   "execution_count": 5,
   "id": "d3fa28e7-b156-4a56-94a4-7d92389aa1df",
   "metadata": {},
   "outputs": [],
   "source": [
    "def policy_iteration(env, gamma=0.9, theta=0.001):\n",
    "    n_states = env.observation_space.n\n",
    "    n_actions = env.action_space.n\n",
    "    policy = np.random.choice(n_actions, size=n_states)\n",
    "    V = np.zeros(n_states)\n",
    "    iterations = 0\n",
    "    while True:\n",
    "        iterations += 1\n",
    "        while True:\n",
    "            delta = 0\n",
    "            for s in range(n_states):\n",
    "                a = policy[s]\n",
    "                v = sum([p * (r + gamma * V[s_]) for p, s_, r, _ in env.unwrapped.P[s][a]])\n",
    "                delta = max(delta, abs(v - V[s]))\n",
    "                V[s] = v\n",
    "            if delta < theta:\n",
    "                break\n",
    "        policy_stable = True\n",
    "        for s in range(n_states):\n",
    "            old_action = policy[s]\n",
    "            q_sa = [sum([p * (r + gamma * V[s_]) for p, s_, r, _ in env.unwrapped.P[s][a]])\n",
    "                    for a in range(n_actions)]\n",
    "            policy[s] = np.argmax(q_sa)\n",
    "            if old_action != policy[s]:\n",
    "                policy_stable = False\n",
    "        if policy_stable:\n",
    "            break\n",
    "    return policy, V, iterations"
   ]
  },
  {
   "cell_type": "code",
   "execution_count": 6,
   "id": "26b602aa-ca32-4d54-9cad-80dae027f904",
   "metadata": {},
   "outputs": [],
   "source": [
    "def epsilon_greedy(Q, state, epsilon=0.1):\n",
    "    if np.random.random() < epsilon:\n",
    "        return np.random.randint(Q.shape[1])  # Random action\n",
    "    else:\n",
    "        return np.argmax(Q[state])"
   ]
  },
  {
   "cell_type": "code",
   "execution_count": 7,
   "id": "a912e8bc-1882-46f5-ac9e-5e32fcc27bed",
   "metadata": {},
   "outputs": [],
   "source": [
    "def monte_carlo(env, episodes=1000, gamma=0.9, epsilon=0.1):\n",
    "    n_states = env.observation_space.n\n",
    "    n_actions = env.action_space.n\n",
    "    Q = np.zeros((n_states, n_actions))\n",
    "    N = np.zeros((n_states, n_actions))\n",
    "    episode_lengths = [] \n",
    "    for episode in range(episodes):\n",
    "        episode_states = []\n",
    "        s, _ = env.reset()\n",
    "        done = False\n",
    "        steps = 0\n",
    "        while not done:\n",
    "            a = epsilon_greedy(Q, s, epsilon)\n",
    "            s_, r, done, truncated, info = env.step(a)\n",
    "            episode_states.append((s, a, r))\n",
    "            s = s_\n",
    "            steps += 1\n",
    "        episode_lengths.append(steps)\n",
    "        G = 0\n",
    "        for t in reversed(range(len(episode_states))):\n",
    "            s, a, r = episode_states[t]\n",
    "            G = gamma * G + r\n",
    "            N[s][a] += 1\n",
    "            Q[s][a] += (G - Q[s][a]) / N[s][a]    \n",
    "    policy = np.argmax(Q, axis=1)\n",
    "    return policy, Q, episode_lengths"
   ]
  },
  {
   "cell_type": "code",
   "execution_count": 8,
   "id": "327a707d-dea8-4e45-a04e-445b71787f38",
   "metadata": {},
   "outputs": [],
   "source": [
    "def q_learning(env, episodes=1000, alpha=0.1, gamma=0.9, epsilon=0.1):\n",
    "    n_states = env.observation_space.n\n",
    "    n_actions = env.action_space.n\n",
    "    Q = np.zeros((n_states, n_actions))\n",
    "    episode_lengths = []    \n",
    "    for episode in range(episodes):\n",
    "        s, _ = env.reset()\n",
    "        done = False\n",
    "        steps = 0\n",
    "        while not done:\n",
    "            a = epsilon_greedy(Q, s, epsilon)\n",
    "            s_, r, done, _, _ = env.step(a)\n",
    "            a_ = np.argmax(Q[s_])\n",
    "            Q[s][a] += alpha * (r + gamma * Q[s_][a_] - Q[s][a])\n",
    "            s = s_\n",
    "            steps += 1\n",
    "        episode_lengths.append(steps)\n",
    "    return np.argmax(Q, axis=1), Q, episode_lengths"
   ]
  },
  {
   "cell_type": "code",
   "execution_count": 9,
   "id": "087f4e89-3940-4f5f-8372-69720562573a",
   "metadata": {},
   "outputs": [],
   "source": [
    "def sarsa(env, episodes=1000, alpha=0.1, gamma=0.9, epsilon=0.1):\n",
    "    Q = np.zeros((env.observation_space.n, env.action_space.n))\n",
    "    episode_lengths = []  \n",
    "    for episode in range(episodes):\n",
    "        s, _ = env.reset()\n",
    "        a = epsilon_greedy(Q, s, epsilon)\n",
    "        done = False\n",
    "        steps = 0\n",
    "        while not done:\n",
    "            s_, r, done, _, _ = env.step(a)\n",
    "            a_ = epsilon_greedy(Q, s_, epsilon)\n",
    "            Q[s][a] += alpha * (r + gamma * Q[s_][a_] - Q[s][a])\n",
    "            s, a = s_, a_\n",
    "            steps += 1\n",
    "        episode_lengths.append(steps)\n",
    "    return np.argmax(Q, axis=1), Q, episode_lengths"
   ]
  },
  {
   "cell_type": "code",
   "execution_count": 10,
   "id": "0c383628-5d8c-44ee-acad-7cdcaf11f465",
   "metadata": {},
   "outputs": [],
   "source": [
    "def evaluate_policy(env, policy, episodes=100):\n",
    "    total_rewards = 0\n",
    "    episode_lengths = []\n",
    "    for _ in range(episodes):\n",
    "        obs, _ = env.reset()\n",
    "        done = False\n",
    "        steps = 0\n",
    "        episode_reward = 0\n",
    "        while not done:\n",
    "            action = policy[obs]\n",
    "            obs, reward, done, truncated, info = env.step(action)\n",
    "            episode_reward += reward\n",
    "            steps += 1\n",
    "        total_rewards += episode_reward\n",
    "        episode_lengths.append(steps)\n",
    "    return total_rewards / episodes, np.mean(episode_lengths)"
   ]
  },
  {
   "cell_type": "code",
   "execution_count": 11,
   "id": "54cfb2e4-4557-4ac3-949d-81147188de83",
   "metadata": {},
   "outputs": [],
   "source": [
    "st = time.time()\n",
    "policy_vi, V_vi,iterations_vi = value_iteration(env)\n",
    "et = time.time()\n",
    "time_vi = et-st\n",
    "avg_reward_vi, avg_length_vi = evaluate_policy(env, policy_vi)"
   ]
  },
  {
   "cell_type": "code",
   "execution_count": 12,
   "id": "fbfe8bf8-c5a7-4f34-a102-80096761db37",
   "metadata": {},
   "outputs": [],
   "source": [
    "st = time.time()\n",
    "policy_pi, V_pi,iterations_pi = policy_iteration(env)\n",
    "et = time.time()\n",
    "time_pi = et-st\n",
    "avg_reward_pi, avg_length_pi = evaluate_policy(env, policy_pi)"
   ]
  },
  {
   "cell_type": "code",
   "execution_count": null,
   "id": "ca3d8401-5dad-47d7-9cfa-bdd36ad04bec",
   "metadata": {},
   "outputs": [],
   "source": [
    "st = time.time()\n",
    "policy_mc, Q_mc,episode_lengths_mc = monte_carlo(env)\n",
    "et = time.time()\n",
    "time_mc = et-st\n",
    "avg_reward_mc, avg_length_mc = evaluate_policy(env, policy_mc)"
   ]
  },
  {
   "cell_type": "code",
   "execution_count": null,
   "id": "6353bdb1-cc88-491a-b6a6-07086c0df075",
   "metadata": {},
   "outputs": [],
   "source": [
    "st = time.time()\n",
    "policy_q , Q_q,episode_lengths_q  = q_learning(env)\n",
    "et = time.time()\n",
    "time_q = et-st\n",
    "avg_reward_q, avg_length_q = evaluate_policy(env, policy_q)"
   ]
  },
  {
   "cell_type": "code",
   "execution_count": null,
   "id": "2e8ba6e3-97d2-4e17-be19-a7ba2d606684",
   "metadata": {},
   "outputs": [],
   "source": [
    "st = time.time()\n",
    "policy_s , V_s,episode_lengths_s  = sarsa(env)\n",
    "et = time.time()\n",
    "time_s = et-st\n",
    "avg_reward_s, avg_length_s = evaluate_policy(env, policy_s)"
   ]
  },
  {
   "cell_type": "code",
   "execution_count": null,
   "id": "66930c73-0c78-4945-ad9a-6b4a30286903",
   "metadata": {},
   "outputs": [],
   "source": [
    "print(\"VI Avg Reward:\", avg_reward_vi)\n",
    "print(\"PI Avg Reward:\", avg_reward_pi)\n",
    "print(\"Montecarlo Avg Reward:\", avg_reward_mc)\n",
    "print(\"Q-learning Avg Reward:\", avg_reward_q)\n",
    "print(\"Sarsa Avg Reward:\", avg_reward_s)\n"
   ]
  },
  {
   "cell_type": "code",
   "execution_count": null,
   "id": "fd510aa5-f2c1-415d-b331-a1a0e2023710",
   "metadata": {},
   "outputs": [],
   "source": [
    "print(\"VI Convergence Taken:\", time_vi)\n",
    "print(\"PI Convergence Taken:\", time_pi)\n",
    "print(\"Montecarlo ConvergenceTaken:\", time_mc)\n",
    "print(\"Q-learning Convergence Taken:\", time_q)\n",
    "print(\"Sarsa Convergence Taken:\", time_s)"
   ]
  }
 ],
 "metadata": {
  "kernelspec": {
   "display_name": "Python 3 (ipykernel)",
   "language": "python",
   "name": "python3"
  },
  "language_info": {
   "codemirror_mode": {
    "name": "ipython",
    "version": 3
   },
   "file_extension": ".py",
   "mimetype": "text/x-python",
   "name": "python",
   "nbconvert_exporter": "python",
   "pygments_lexer": "ipython3",
   "version": "3.12.9"
  }
 },
 "nbformat": 4,
 "nbformat_minor": 5
}
