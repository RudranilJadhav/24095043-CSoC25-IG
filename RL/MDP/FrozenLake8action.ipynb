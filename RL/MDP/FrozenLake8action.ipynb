{
 "cells": [
  {
   "cell_type": "code",
   "execution_count": 119,
   "id": "037ee94a-2f6e-49c0-b613-5863e9f05048",
   "metadata": {},
   "outputs": [],
   "source": [
    "import numpy as np"
   ]
  },
  {
   "cell_type": "code",
   "execution_count": 120,
   "id": "ec0189cf-6343-469b-8e56-4006475dfa74",
   "metadata": {},
   "outputs": [],
   "source": [
    "GRID_SIZE=10\n",
    "TERMINAL_STATES= [(0,5),(0,7),(1,1),(1,2),(2,9),(2,6),(3,3),(3,4),(4,0),(4,8),(5,1),(5,4),(6,7),(6,8),(7,3),(7,5),(8,0),(8,6),(9,2),(9,4),(9,9)]\n",
    "ACTIONS = {\n",
    "    0:(-1,-1), #UL\n",
    "    1:(-1,0),  #U\n",
    "    2:(-1,1),  #UR\n",
    "    3:(0,-1),  #L\n",
    "    4:(0,1),   #R\n",
    "    5:(1,-1),  #DL\n",
    "    6:(1,0),   #D\n",
    "    7:(1,1)    #DR\n",
    "}\n",
    "STATE =[(i,j) for i in range(10) for j in range(10)]"
   ]
  },
  {
   "cell_type": "code",
   "execution_count": 121,
   "id": "403f3e48-987e-4c4f-bf74-ca64979897e2",
   "metadata": {},
   "outputs": [],
   "source": [
    "def next_state(state,action):\n",
    "    i,j = state\n",
    "    p,q = ACTIONS[action]\n",
    "    if state in TERMINAL_STATES:\n",
    "        return state\n",
    "    else:\n",
    "        if i+p==max(min(i+p,9),0) and j+q==max(min(j+q,9),0):\n",
    "            return (i+p,j+q)\n",
    "        else:\n",
    "            return (i,j)\n",
    "\n",
    "def reward(i_,j_):\n",
    "    if (i_,j_)==(9,9):\n",
    "        return 1\n",
    "    else:\n",
    "        return 0"
   ]
  },
  {
   "cell_type": "code",
   "execution_count": 122,
   "id": "3361560f-7c2f-41ab-9ba6-59cd5bfc6890",
   "metadata": {},
   "outputs": [],
   "source": [
    "def policy_iteration(gamma=0.9, THETA=0.0001):\n",
    "    policy = np.zeros(100)\n",
    "    V = np.zeros((10,10))\n",
    "    while True:\n",
    "        \n",
    "        while True:\n",
    "            delta=0\n",
    "            new_V=np.zeros((10,10))\n",
    "            for s in range(100):\n",
    "                if STATE[s] in TERMINAL_STATES:\n",
    "                    continue\n",
    "                i,j = STATE[s]\n",
    "                v=0\n",
    "                for action in ACTIONS : \n",
    "                    i_ , j_ = next_state((i,j),action)\n",
    "                    v+=0.125*(reward(i_,j_)+gamma*V[i_,j_])\n",
    "                new_V[i,j]=v\n",
    "            V=new_V.copy()\n",
    "            delta = max(delta, abs(v-V[i,j]))\n",
    "            if delta<THETA:\n",
    "                break\n",
    "\n",
    "        policy_stable=True\n",
    "        for s in range(100):\n",
    "            if STATE[s] in TERMINAL_STATES:\n",
    "                continue\n",
    "            i,j = STATE[s]\n",
    "            old_action = policy[s]\n",
    "            a_val= []\n",
    "            for action in ACTIONS:\n",
    "                i_, j_ = next_state((i, j), action)\n",
    "                val = reward(i_,j_) + gamma * V[i_, j_]\n",
    "                a_val.append(val)\n",
    "            best_action = np.argmax(a_val)\n",
    "            policy[s] = best_action\n",
    "            if old_action != best_action:\n",
    "                policy_stable = False\n",
    "        if policy_stable:\n",
    "            break\n",
    "    return policy.reshape((10,10)), V"
   ]
  },
  {
   "cell_type": "code",
   "execution_count": 123,
   "id": "aa3402f8-192d-4685-910c-de94fd3f8466",
   "metadata": {},
   "outputs": [
    {
     "name": "stdout",
     "output_type": "stream",
     "text": [
      "Policy Iteration Policy:\n",
      " [[6. 4. 7. 7. 7. 0. 7. 0. 5. 5.]\n",
      " [7. 0. 0. 7. 7. 6. 7. 6. 5. 5.]\n",
      " [7. 7. 6. 4. 7. 7. 0. 7. 6. 0.]\n",
      " [7. 7. 7. 0. 0. 7. 7. 6. 7. 6.]\n",
      " [0. 7. 7. 4. 7. 7. 6. 7. 0. 6.]\n",
      " [7. 0. 7. 7. 0. 7. 6. 5. 7. 6.]\n",
      " [7. 7. 4. 7. 4. 7. 7. 0. 0. 6.]\n",
      " [4. 4. 7. 0. 7. 0. 7. 7. 7. 6.]\n",
      " [0. 2. 4. 4. 4. 7. 0. 7. 7. 6.]\n",
      " [2. 2. 0. 2. 0. 4. 4. 4. 4. 0.]]\n"
     ]
    }
   ],
   "source": [
    "policy_pi, V_pi = policy_iteration()\n",
    "print(\"Policy Iteration Policy:\\n\", policy_pi)\n"
   ]
  },
  {
   "cell_type": "code",
   "execution_count": 124,
   "id": "2b8c4edd-b488-4298-8f78-bb61d545ccb4",
   "metadata": {},
   "outputs": [
    {
     "data": {
      "text/plain": [
       "array([['↓', '→', '↘', '↘', '↘', 'T', '↘', 'T', '↙', '↙'],\n",
       "       ['↘', 'T', 'T', '↘', '↘', '↓', '↘', '↓', '↙', '↙'],\n",
       "       ['↘', '↘', '↓', '→', '↘', '↘', 'T', '↘', '↓', 'T'],\n",
       "       ['↘', '↘', '↘', 'T', 'T', '↘', '↘', '↓', '↘', '↓'],\n",
       "       ['T', '↘', '↘', '→', '↘', '↘', '↓', '↘', 'T', '↓'],\n",
       "       ['↘', 'T', '↘', '↘', 'T', '↘', '↓', '↙', '↘', '↓'],\n",
       "       ['↘', '↘', '→', '↘', '→', '↘', '↘', 'T', 'T', '↓'],\n",
       "       ['→', '→', '↘', 'T', '↘', 'T', '↘', '↘', '↘', '↓'],\n",
       "       ['T', '↗', '→', '→', '→', '↘', 'T', '↘', '↘', '↓'],\n",
       "       ['↗', '↗', 'T', '↗', 'T', '→', '→', '→', '→', 'T']], dtype='<U1')"
      ]
     },
     "execution_count": 124,
     "metadata": {},
     "output_type": "execute_result"
    }
   ],
   "source": [
    "policy_visual = np.empty((10, 10), dtype=str)  \n",
    "for i in range(10):\n",
    "    for j in range(10):\n",
    "        if (i, j) in TERMINAL_STATES:\n",
    "            policy_visual[i][j] = 'T'\n",
    "        elif policy_pi[i][j] == 0:\n",
    "            policy_visual[i][j] = '↖'  \n",
    "        elif policy_pi[i][j] == 1:\n",
    "            policy_visual[i][j] = '↑'  \n",
    "        elif policy_pi[i][j] == 2:\n",
    "            policy_visual[i][j] = '↗'\n",
    "        elif policy_pi[i][j] == 3:\n",
    "            policy_visual[i][j] = '←'\n",
    "        elif policy_pi[i][j] == 4:\n",
    "            policy_visual[i][j] = '→'\n",
    "        elif policy_pi[i][j] == 5:\n",
    "            policy_visual[i][j] = '↙'\n",
    "        elif policy_pi[i][j] == 6:\n",
    "            policy_visual[i][j] = '↓'\n",
    "        elif policy_pi[i][j] == 7:\n",
    "            policy_visual[i][j] = '↘'\n",
    "policy_visual"
   ]
  },
  {
   "cell_type": "code",
   "execution_count": null,
   "id": "941b6c35-5966-40ef-af40-cf69c83dc620",
   "metadata": {},
   "outputs": [],
   "source": []
  }
 ],
 "metadata": {
  "kernelspec": {
   "display_name": "Python 3 (ipykernel)",
   "language": "python",
   "name": "python3"
  },
  "language_info": {
   "codemirror_mode": {
    "name": "ipython",
    "version": 3
   },
   "file_extension": ".py",
   "mimetype": "text/x-python",
   "name": "python",
   "nbconvert_exporter": "python",
   "pygments_lexer": "ipython3",
   "version": "3.12.9"
  }
 },
 "nbformat": 4,
 "nbformat_minor": 5
}
