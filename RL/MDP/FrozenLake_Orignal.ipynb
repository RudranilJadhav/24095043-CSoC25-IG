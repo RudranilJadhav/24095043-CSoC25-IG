{
 "cells": [
  {
   "cell_type": "code",
   "execution_count": 1,
   "id": "497332e2-689b-4536-80d6-9cb67d5e3183",
   "metadata": {},
   "outputs": [],
   "source": [
    "import gymnasium as gym\n",
    "import numpy as np"
   ]
  },
  {
   "cell_type": "code",
   "execution_count": 2,
   "id": "c319ab41-efcf-43b1-8a82-d8d3e9a7a06b",
   "metadata": {},
   "outputs": [],
   "source": [
    "env = gym.make(\"FrozenLake-v1\", is_slippery=False,render_mode=\"ansi\")"
   ]
  },
  {
   "cell_type": "code",
   "execution_count": 3,
   "id": "07e5425d-ff75-4a55-9396-c3160c4f6ca0",
   "metadata": {},
   "outputs": [
    {
     "name": "stdout",
     "output_type": "stream",
     "text": [
      "States: 16, Actions: 4\n",
      "[['S' 'F' 'F' 'F']\n",
      " ['F' 'H' 'F' 'H']\n",
      " ['F' 'F' 'F' 'H']\n",
      " ['H' 'F' 'F' 'G']]\n"
     ]
    }
   ],
   "source": [
    "n_states = env.observation_space.n\n",
    "n_actions = env.action_space.n\n",
    "print(f\"States: {n_states}, Actions: {n_actions}\")\n",
    "desc = env.unwrapped.desc.astype(str)\n",
    "print(desc)"
   ]
  },
  {
   "cell_type": "code",
   "execution_count": 4,
   "id": "95965d83-c443-4b74-ae6e-dcdf575141ba",
   "metadata": {},
   "outputs": [],
   "source": [
    "def value_iteration(env,gamma=0.9,theta=0.01):\n",
    "    n_states = env.observation_space.n\n",
    "    n_actions = env.action_space.n\n",
    "    V = np.zeros(n_states)\n",
    "    while True:\n",
    "        delta = 0\n",
    "        for s in range(n_states):\n",
    "            q_sa = [sum([p*(r+gamma* V[s_]) for p, s_, r, _ in env.unwrapped.P[s][a]]) for a in range(n_actions)]\n",
    "            max_q = max(q_sa)\n",
    "            delta = max(delta, abs(max_q-V[s]))\n",
    "            V[s] = max_q\n",
    "        if delta <theta:\n",
    "            break\n",
    "    policy = np.zeros(n_states, dtype=int)\n",
    "    for s in range(n_states):\n",
    "        q_sa = [sum([p * (r + gamma * V[s_]) for p, s_, r, _ in env.unwrapped.P[s][a]])\n",
    "                for a in range(n_actions)]\n",
    "        policy[s] = np.argmax(q_sa)\n",
    "\n",
    "    return policy, V"
   ]
  },
  {
   "cell_type": "code",
   "execution_count": 5,
   "id": "02049c2c-b07f-4ff2-97dc-683498796bc2",
   "metadata": {},
   "outputs": [],
   "source": [
    "def policy_iteration(env, gamma=0.9, theta=0.01):\n",
    "    n_states = env.observation_space.n\n",
    "    n_actions = env.action_space.n\n",
    "    policy = np.random.choice(n_actions, size=n_states)\n",
    "    V = np.zeros(n_states)\n",
    "    while True:\n",
    "        while True:\n",
    "            delta = 0\n",
    "            for s in range(n_states):\n",
    "                a = policy[s]\n",
    "                v = sum([p * (r + gamma * V[s_]) for p, s_, r, _ in env.unwrapped.P[s][a]])\n",
    "                delta = max(delta, abs(v - V[s]))\n",
    "                V[s] = v\n",
    "            if delta < theta:\n",
    "                break\n",
    "        policy_stable = True\n",
    "        for s in range(n_states):\n",
    "            old_action = policy[s]\n",
    "            q_sa = [sum([p * (r + gamma * V[s_]) for p, s_, r, _ in env.unwrapped.P[s][a]])\n",
    "                    for a in range(n_actions)]\n",
    "            policy[s] = np.argmax(q_sa)\n",
    "            if old_action != policy[s]:\n",
    "                policy_stable = False\n",
    "        if policy_stable:\n",
    "            break\n",
    "    return policy, V\n"
   ]
  },
  {
   "cell_type": "code",
   "execution_count": 6,
   "id": "edcd1d91-0f4d-4192-be2a-2a8774fb620c",
   "metadata": {},
   "outputs": [
    {
     "name": "stdout",
     "output_type": "stream",
     "text": [
      "Value Iteration Policy:\n",
      " [[1 2 1 0]\n",
      " [1 0 1 0]\n",
      " [2 1 1 0]\n",
      " [0 2 2 0]]\n",
      "Policy Iteration Policy:\n",
      " [[1 2 1 0]\n",
      " [1 0 1 0]\n",
      " [2 1 1 0]\n",
      " [0 2 2 0]]\n"
     ]
    }
   ],
   "source": [
    "policy_vi, V_vi = value_iteration(env)\n",
    "print(\"Value Iteration Policy:\\n\", policy_vi.reshape((4, 4)))\n",
    "\n",
    "policy_pi, V_pi = policy_iteration(env)\n",
    "print(\"Policy Iteration Policy:\\n\", policy_pi.reshape((4, 4)))"
   ]
  },
  {
   "cell_type": "code",
   "execution_count": 7,
   "id": "9fe13106-d96e-4443-9fe2-1832edcb5a83",
   "metadata": {},
   "outputs": [
    {
     "name": "stdout",
     "output_type": "stream",
     "text": [
      "VI Avg Reward: 1.0\n",
      "PI Avg Reward: 1.0\n"
     ]
    }
   ],
   "source": [
    "def evaluate_policy(env, policy, episodes=100):\n",
    "    total_rewards = 0\n",
    "    for _ in range(episodes):\n",
    "        obs, _ = env.reset()\n",
    "        done = False\n",
    "        while not done:\n",
    "            action = policy[obs]\n",
    "            obs, reward, done, truncated, info = env.step(action)\n",
    "            total_rewards += reward\n",
    "    return total_rewards / episodes\n",
    "\n",
    "print(\"VI Avg Reward:\", evaluate_policy(env, policy_vi))\n",
    "print(\"PI Avg Reward:\", evaluate_policy(env, policy_pi))"
   ]
  }
 ],
 "metadata": {
  "kernelspec": {
   "display_name": "Python 3 (ipykernel)",
   "language": "python",
   "name": "python3"
  },
  "language_info": {
   "codemirror_mode": {
    "name": "ipython",
    "version": 3
   },
   "file_extension": ".py",
   "mimetype": "text/x-python",
   "name": "python",
   "nbconvert_exporter": "python",
   "pygments_lexer": "ipython3",
   "version": "3.12.9"
  }
 },
 "nbformat": 4,
 "nbformat_minor": 5
}
