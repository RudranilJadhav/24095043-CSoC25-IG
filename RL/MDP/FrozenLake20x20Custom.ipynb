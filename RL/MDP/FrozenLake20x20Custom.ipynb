{
 "cells": [
  {
   "cell_type": "code",
   "execution_count": 37,
   "id": "8cfe1fc9-a2c1-40b5-8356-e761baafe40a",
   "metadata": {},
   "outputs": [],
   "source": [
    "import gymnasium as gym\n",
    "from gymnasium.envs.toy_text.frozen_lake import generate_random_map\n",
    "from gymnasium.envs.registration import register\n",
    "import random\n",
    "import numpy as np"
   ]
  },
  {
   "cell_type": "code",
   "execution_count": 39,
   "id": "22426f6f-80a2-4a71-8171-db343fd71552",
   "metadata": {},
   "outputs": [],
   "source": [
    "lake_map = generate_random_map(size=20, p=0.8)"
   ]
  },
  {
   "cell_type": "code",
   "execution_count": 40,
   "id": "8f40d066-b84b-4a76-a0b0-ec28df2b5865",
   "metadata": {},
   "outputs": [],
   "source": [
    "register(\n",
    "    id=\"FrozenLake20x20Custom-v1\",\n",
    "    entry_point=\"gymnasium.envs.toy_text.frozen_lake:FrozenLakeEnv\",\n",
    "    kwargs={\n",
    "        \"desc\": lake_map,\n",
    "        \"map_name\": \"FrozenLake20x20Custom\",\n",
    "        \"is_slippery\": False\n",
    "    }\n",
    ")\n",
    "env = gym.make(\"FrozenLake20x20Custom-v1\", render_mode=\"ansi\")"
   ]
  },
  {
   "cell_type": "code",
   "execution_count": 41,
   "id": "74688ee7-c395-43e4-96d3-4be49219f9a5",
   "metadata": {},
   "outputs": [
    {
     "name": "stdout",
     "output_type": "stream",
     "text": [
      "States: 400, Actions: 4\n",
      "[['S' 'F' 'H' 'F' 'F' 'F' 'F' 'F' 'F' 'F' 'F' 'F' 'F' 'F' 'F' 'F' 'F' 'F'\n",
      "  'F' 'F']\n",
      " ['F' 'F' 'F' 'F' 'F' 'F' 'F' 'F' 'F' 'F' 'F' 'F' 'F' 'F' 'F' 'F' 'F' 'F'\n",
      "  'F' 'H']\n",
      " ['F' 'F' 'H' 'F' 'F' 'H' 'F' 'H' 'F' 'F' 'F' 'F' 'F' 'F' 'F' 'F' 'H' 'F'\n",
      "  'F' 'F']\n",
      " ['H' 'F' 'F' 'F' 'F' 'F' 'F' 'F' 'F' 'F' 'F' 'H' 'F' 'F' 'F' 'F' 'H' 'F'\n",
      "  'H' 'F']\n",
      " ['F' 'F' 'F' 'F' 'F' 'F' 'F' 'F' 'F' 'F' 'F' 'F' 'F' 'F' 'F' 'H' 'F' 'F'\n",
      "  'F' 'F']\n",
      " ['F' 'F' 'H' 'F' 'F' 'H' 'F' 'F' 'H' 'F' 'F' 'H' 'F' 'F' 'H' 'H' 'F' 'F'\n",
      "  'F' 'F']\n",
      " ['H' 'F' 'F' 'F' 'F' 'F' 'F' 'H' 'F' 'F' 'F' 'F' 'F' 'H' 'F' 'F' 'F' 'F'\n",
      "  'F' 'F']\n",
      " ['F' 'F' 'F' 'F' 'F' 'H' 'F' 'H' 'F' 'F' 'F' 'H' 'F' 'H' 'F' 'F' 'H' 'F'\n",
      "  'F' 'F']\n",
      " ['F' 'F' 'H' 'H' 'H' 'F' 'F' 'F' 'H' 'F' 'F' 'F' 'F' 'F' 'F' 'H' 'F' 'F'\n",
      "  'F' 'F']\n",
      " ['F' 'F' 'F' 'H' 'H' 'F' 'F' 'F' 'H' 'F' 'F' 'F' 'F' 'F' 'F' 'F' 'F' 'F'\n",
      "  'F' 'F']\n",
      " ['H' 'F' 'F' 'F' 'F' 'F' 'F' 'H' 'F' 'F' 'F' 'F' 'F' 'F' 'F' 'F' 'H' 'H'\n",
      "  'F' 'F']\n",
      " ['F' 'H' 'F' 'H' 'F' 'F' 'F' 'F' 'F' 'F' 'H' 'F' 'F' 'F' 'F' 'H' 'H' 'F'\n",
      "  'F' 'F']\n",
      " ['F' 'F' 'F' 'F' 'F' 'F' 'F' 'F' 'F' 'F' 'F' 'H' 'F' 'F' 'F' 'F' 'H' 'F'\n",
      "  'H' 'H']\n",
      " ['H' 'F' 'F' 'F' 'F' 'F' 'F' 'F' 'F' 'F' 'F' 'F' 'H' 'F' 'F' 'F' 'F' 'F'\n",
      "  'F' 'H']\n",
      " ['F' 'F' 'F' 'F' 'F' 'F' 'F' 'F' 'H' 'F' 'H' 'F' 'F' 'F' 'F' 'F' 'H' 'F'\n",
      "  'H' 'H']\n",
      " ['F' 'F' 'F' 'F' 'H' 'F' 'F' 'F' 'F' 'F' 'F' 'H' 'F' 'F' 'H' 'H' 'H' 'F'\n",
      "  'F' 'F']\n",
      " ['F' 'H' 'F' 'F' 'H' 'H' 'H' 'F' 'H' 'F' 'F' 'F' 'H' 'F' 'F' 'F' 'F' 'H'\n",
      "  'F' 'H']\n",
      " ['F' 'F' 'F' 'F' 'F' 'F' 'F' 'F' 'F' 'H' 'F' 'F' 'H' 'F' 'F' 'H' 'F' 'F'\n",
      "  'F' 'F']\n",
      " ['H' 'F' 'F' 'F' 'F' 'F' 'F' 'F' 'F' 'F' 'F' 'F' 'H' 'F' 'H' 'F' 'F' 'F'\n",
      "  'F' 'F']\n",
      " ['F' 'F' 'H' 'F' 'F' 'F' 'F' 'F' 'F' 'F' 'H' 'F' 'H' 'F' 'F' 'H' 'H' 'F'\n",
      "  'F' 'G']]\n"
     ]
    }
   ],
   "source": [
    "n_states = env.observation_space.n\n",
    "n_actions = env.action_space.n\n",
    "print(f\"States: {n_states}, Actions: {n_actions}\")\n",
    "desc = env.unwrapped.desc.astype(str)\n",
    "print(desc)"
   ]
  },
  {
   "cell_type": "code",
   "execution_count": 42,
   "id": "9dc797bf-584d-4166-b9e7-f42b7499c426",
   "metadata": {},
   "outputs": [],
   "source": [
    "def value_iteration(env,gamma=0.9,theta=0.001):\n",
    "    n_states = env.observation_space.n\n",
    "    n_actions = env.action_space.n\n",
    "    V = np.zeros(n_states)\n",
    "    while True:\n",
    "        delta = 0\n",
    "        for s in range(n_states):\n",
    "            q_sa = [sum([p*(r+gamma* V[s_]) for p, s_, r, _ in env.unwrapped.P[s][a]]) for a in range(n_actions)]\n",
    "            max_q = max(q_sa)\n",
    "            delta = max(delta, abs(max_q-V[s]))\n",
    "            V[s] = max_q\n",
    "        if delta <theta:\n",
    "            break\n",
    "    policy = np.zeros(n_states, dtype=int)\n",
    "    for s in range(n_states):\n",
    "        q_sa = [sum([p * (r + gamma * V[s_]) for p, s_, r, _ in env.unwrapped.P[s][a]])\n",
    "                for a in range(n_actions)]\n",
    "        policy[s] = np.argmax(q_sa)\n",
    "    return policy, V"
   ]
  },
  {
   "cell_type": "code",
   "execution_count": 43,
   "id": "a68e35d6-1b14-4a07-828c-e4b85e3059f0",
   "metadata": {},
   "outputs": [],
   "source": [
    "def policy_iteration(env, gamma=0.9, theta=0.001):\n",
    "    n_states = env.observation_space.n\n",
    "    n_actions = env.action_space.n\n",
    "    policy = np.random.choice(n_actions, size=n_states)\n",
    "    V = np.zeros(n_states)\n",
    "    while True:\n",
    "        while True:\n",
    "            delta = 0\n",
    "            for s in range(n_states):\n",
    "                a = policy[s]\n",
    "                v = sum([p * (r + gamma * V[s_]) for p, s_, r, _ in env.unwrapped.P[s][a]])\n",
    "                delta = max(delta, abs(v - V[s]))\n",
    "                V[s] = v\n",
    "            if delta < theta:\n",
    "                break\n",
    "        policy_stable = True\n",
    "        for s in range(n_states):\n",
    "            old_action = policy[s]\n",
    "            q_sa = [sum([p * (r + gamma * V[s_]) for p, s_, r, _ in env.unwrapped.P[s][a]])\n",
    "                    for a in range(n_actions)]\n",
    "            policy[s] = np.argmax(q_sa)\n",
    "            if old_action != policy[s]:\n",
    "                policy_stable = False\n",
    "        if policy_stable:\n",
    "            break\n",
    "    return policy, V\n"
   ]
  },
  {
   "cell_type": "code",
   "execution_count": 44,
   "id": "a090bafc-ad7b-4fd2-a13e-b2f352478a23",
   "metadata": {},
   "outputs": [
    {
     "name": "stdout",
     "output_type": "stream",
     "text": [
      "Value Iteration Policy:\n",
      " [[1 1 0 1 1 1 1 1 1 1 1 1 1 0 1 1 1 1 0 0]\n",
      " [1 1 2 1 1 2 1 2 1 1 1 1 1 0 2 2 2 1 0 0]\n",
      " [2 1 0 1 1 0 1 0 1 1 1 2 1 0 0 3 0 1 0 1]\n",
      " [0 1 1 1 1 1 1 1 1 1 1 0 1 0 0 0 0 1 0 1]\n",
      " [1 1 2 1 1 2 1 2 2 1 1 2 1 0 0 0 1 1 1 0]\n",
      " [2 1 0 1 1 0 1 0 0 1 1 0 1 0 0 0 1 1 1 0]\n",
      " [0 1 2 2 2 2 1 0 1 1 1 2 1 0 1 0 2 1 1 0]\n",
      " [1 1 0 2 3 0 1 0 2 1 1 0 1 0 1 0 0 1 1 0]\n",
      " [1 1 0 0 0 1 1 0 0 1 1 1 1 1 1 0 1 1 1 0]\n",
      " [2 1 1 0 0 1 1 0 0 1 1 1 1 1 1 0 2 2 1 0]\n",
      " [0 2 1 2 1 1 1 0 1 1 2 1 1 1 1 0 0 0 1 0]\n",
      " [1 0 1 0 1 1 1 1 1 1 0 2 1 1 1 0 0 1 0 0]\n",
      " [2 1 1 1 1 1 1 1 1 1 1 0 2 1 1 1 0 1 0 0]\n",
      " [0 2 2 2 2 2 2 2 2 2 2 1 0 1 2 2 2 1 0 0]\n",
      " [2 2 2 2 2 2 2 3 0 3 0 2 1 1 0 3 0 1 0 0]\n",
      " [2 2 2 3 0 2 2 2 2 3 0 0 2 1 0 0 0 2 1 0]\n",
      " [3 0 2 3 0 0 0 3 0 3 0 0 0 2 2 2 1 0 1 0]\n",
      " [2 2 2 2 2 2 2 3 0 0 3 0 0 2 3 0 1 1 1 1]\n",
      " [0 2 2 2 2 2 2 3 0 2 3 0 0 3 0 2 2 1 1 1]\n",
      " [2 3 0 2 2 2 2 3 0 3 0 3 0 3 0 0 0 2 2 0]]\n",
      "Policy Iteration Policy:\n",
      " [[1 1 0 1 1 1 1 1 1 1 1 1 1 0 1 1 1 1 0 0]\n",
      " [1 1 2 1 1 2 1 2 1 1 1 1 1 0 2 2 2 1 0 0]\n",
      " [2 1 0 1 1 0 1 0 1 1 1 2 1 0 0 3 0 1 0 1]\n",
      " [0 1 1 1 1 1 1 1 1 1 1 0 1 0 0 0 0 1 0 1]\n",
      " [1 1 2 1 1 2 1 2 2 1 1 2 1 0 0 0 1 1 1 0]\n",
      " [2 1 0 1 1 0 1 0 0 1 1 0 1 0 0 0 1 1 1 0]\n",
      " [0 1 2 2 2 2 1 0 1 1 1 2 1 0 1 0 2 1 1 0]\n",
      " [1 1 0 2 3 0 1 0 2 1 1 0 1 0 1 0 0 1 1 0]\n",
      " [1 1 0 0 0 1 1 0 0 1 1 1 1 1 1 0 1 1 1 0]\n",
      " [2 1 1 0 0 1 1 0 0 1 1 1 1 1 1 0 2 2 1 0]\n",
      " [0 2 1 2 1 1 1 0 1 1 2 1 1 1 1 0 0 0 1 0]\n",
      " [1 0 1 0 1 1 1 1 1 1 0 2 1 1 1 0 0 1 0 0]\n",
      " [2 1 1 1 1 1 1 1 1 1 1 0 2 1 1 1 0 1 0 0]\n",
      " [0 2 2 2 2 2 2 2 2 2 2 1 0 1 2 2 2 1 0 0]\n",
      " [2 2 2 2 2 2 2 3 0 3 0 2 1 1 0 3 0 1 0 0]\n",
      " [2 2 2 3 0 2 2 2 2 3 0 0 2 1 0 0 0 2 1 0]\n",
      " [3 0 2 3 0 0 0 3 0 3 0 0 0 2 2 2 1 0 1 0]\n",
      " [2 2 2 2 2 2 2 3 0 0 3 0 0 2 3 0 1 1 1 1]\n",
      " [0 2 2 2 2 2 2 3 0 2 3 0 0 3 0 2 2 1 1 1]\n",
      " [2 3 0 2 2 2 2 3 0 3 0 3 0 3 0 0 0 2 2 0]]\n"
     ]
    }
   ],
   "source": [
    "policy_vi, V_vi = value_iteration(env)\n",
    "print(\"Value Iteration Policy:\\n\", policy_vi.reshape((20, 20)))\n",
    "\n",
    "policy_pi, V_pi = policy_iteration(env)\n",
    "print(\"Policy Iteration Policy:\\n\", policy_pi.reshape((20, 20)))"
   ]
  },
  {
   "cell_type": "code",
   "execution_count": 45,
   "id": "31303bc8-8760-4daa-8664-d35d21c0bdfe",
   "metadata": {},
   "outputs": [
    {
     "name": "stdout",
     "output_type": "stream",
     "text": [
      "VI Avg Reward: 1.0\n",
      "PI Avg Reward: 1.0\n"
     ]
    }
   ],
   "source": [
    "def evaluate_policy(env, policy, episodes=100):\n",
    "    total_rewards = 0\n",
    "    for _ in range(episodes):\n",
    "        obs, _ = env.reset()\n",
    "        done = False\n",
    "        while not done:\n",
    "            action = policy[obs]\n",
    "            obs, reward, done, truncated, info = env.step(action)\n",
    "            total_rewards += reward\n",
    "    return total_rewards / episodes\n",
    "\n",
    "print(\"VI Avg Reward:\", evaluate_policy(env, policy_vi))\n",
    "print(\"PI Avg Reward:\", evaluate_policy(env, policy_pi))"
   ]
  },
  {
   "cell_type": "code",
   "execution_count": null,
   "id": "557ead99-1300-4905-8e2c-a3821020691a",
   "metadata": {},
   "outputs": [],
   "source": []
  }
 ],
 "metadata": {
  "kernelspec": {
   "display_name": "Python 3 (ipykernel)",
   "language": "python",
   "name": "python3"
  },
  "language_info": {
   "codemirror_mode": {
    "name": "ipython",
    "version": 3
   },
   "file_extension": ".py",
   "mimetype": "text/x-python",
   "name": "python",
   "nbconvert_exporter": "python",
   "pygments_lexer": "ipython3",
   "version": "3.12.9"
  }
 },
 "nbformat": 4,
 "nbformat_minor": 5
}
